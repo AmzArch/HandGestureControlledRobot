{
 "cells": [
  {
   "cell_type": "markdown",
   "metadata": {
    "id": "yV1KP6VX3sjn"
   },
   "source": [
    "# Hand Gesture Recognition\n",
    "## Part of Final Project to control Turtlbot Lite 3 via Hand Gesture\n",
    "## Authors: Archit Jain, Vishal Nadig"
   ]
  },
  {
   "cell_type": "code",
   "execution_count": 1,
   "metadata": {
    "id": "Idw16ualBa-J"
   },
   "outputs": [],
   "source": [
    "#Importing libraries\n",
    "import os\n",
    "from sklearn.model_selection import train_test_split\n",
    "import pandas as pd \n",
    "import cv2"
   ]
  },
  {
   "cell_type": "code",
   "execution_count": 2,
   "metadata": {},
   "outputs": [],
   "source": [
    "data_dir = fr\"C:\\Users\\archi\\Downloads\\grayscale_gesture\""
   ]
  },
  {
   "cell_type": "code",
   "execution_count": 3,
   "metadata": {},
   "outputs": [],
   "source": [
    "# Loop through each subdirectory in the data directory\n",
    "import mediapipe as mp\n",
    "from mediapipe.tasks import python\n",
    "from mediapipe.tasks.python import vision\n",
    "\n",
    "data = []\n",
    "labels = []\n",
    "filenames_ls = []\n",
    "\n",
    "mp_hands = mp.solutions.hands\n",
    "hands = mp_hands.Hands(static_image_mode=False, max_num_hands=1, min_detection_confidence=0.5)\n",
    "\n",
    "dim = (250, 250)\n",
    "\n",
    "for label in os.listdir(data_dir):\n",
    "    # Get the full path of the subdirectory\n",
    "    label_dir = os.path.join(data_dir, label)\n",
    "    label = int(label)\n",
    "    # Loop through each image file in the subdirectory\n",
    "    for filename in os.listdir(label_dir):\n",
    "        # Get the full path of the image file\n",
    "        img_path = os.path.join(label_dir, filename)\n",
    "        data_aux = []\n",
    "        x_ = []\n",
    "        y_ = []\n",
    "        img = cv2.imread(img_path)\n",
    "        image = cv2.cvtColor(img, cv2.COLOR_BGR2RGB) # convert to RGB\n",
    "        # image = cv2.resize(image, dim, interpolation = cv2.INTER_AREA)\n",
    "        results = hands.process(image)\n",
    "        if results.multi_hand_landmarks:\n",
    "            for hand_landmarks in results.multi_hand_landmarks:\n",
    "                for id, lm in enumerate(hand_landmarks.landmark):\n",
    "                    h, w, c = image.shape\n",
    "                    x = hand_landmarks.landmark[id].x\n",
    "                    y = hand_landmarks.landmark[id].y\n",
    "\n",
    "                    x_.append(x)\n",
    "                    y_.append(y)\n",
    "                \n",
    "                for i in range(len(hand_landmarks.landmark)):\n",
    "                    x = hand_landmarks.landmark[i].x\n",
    "                    y = hand_landmarks.landmark[i].y\n",
    "                    data_aux.append(x - min(x_))\n",
    "                    data_aux.append(y - min(y_))\n",
    "\n",
    "\n",
    "                filenames_ls.append(filename)\n",
    "                labels.append(label)      \n",
    "                data.append(data_aux)"
   ]
  },
  {
   "cell_type": "code",
   "execution_count": 4,
   "metadata": {},
   "outputs": [],
   "source": [
    "df = pd.DataFrame({\n",
    "    \"filename\" : filenames_ls,\n",
    "    'label' : labels,\n",
    "    'data' : data\n",
    "    })\n",
    "\n",
    "\n",
    "\n",
    "df.to_csv(\"ASL_Grey_landmarks_new.csv\")\n"
   ]
  },
  {
   "cell_type": "code",
   "execution_count": 5,
   "metadata": {},
   "outputs": [
    {
     "data": {
      "text/html": [
       "<div>\n",
       "<style scoped>\n",
       "    .dataframe tbody tr th:only-of-type {\n",
       "        vertical-align: middle;\n",
       "    }\n",
       "\n",
       "    .dataframe tbody tr th {\n",
       "        vertical-align: top;\n",
       "    }\n",
       "\n",
       "    .dataframe thead th {\n",
       "        text-align: right;\n",
       "    }\n",
       "</style>\n",
       "<table border=\"1\" class=\"dataframe\">\n",
       "  <thead>\n",
       "    <tr style=\"text-align: right;\">\n",
       "      <th></th>\n",
       "      <th>filename</th>\n",
       "      <th>label</th>\n",
       "      <th>data</th>\n",
       "    </tr>\n",
       "  </thead>\n",
       "  <tbody>\n",
       "    <tr>\n",
       "      <th>0</th>\n",
       "      <td>zero_111.jpg</td>\n",
       "      <td>0</td>\n",
       "      <td>[0.0, 0.08762304484844208, 0.04669642448425293...</td>\n",
       "    </tr>\n",
       "    <tr>\n",
       "      <th>1</th>\n",
       "      <td>zero_1110.jpg</td>\n",
       "      <td>0</td>\n",
       "      <td>[0.0, 0.26034096628427505, 0.09558302164077759...</td>\n",
       "    </tr>\n",
       "    <tr>\n",
       "      <th>2</th>\n",
       "      <td>zero_1111.jpg</td>\n",
       "      <td>0</td>\n",
       "      <td>[0.0, 0.5345455408096313, 0.10513269901275635,...</td>\n",
       "    </tr>\n",
       "    <tr>\n",
       "      <th>3</th>\n",
       "      <td>zero_1112.jpg</td>\n",
       "      <td>0</td>\n",
       "      <td>[0.03647130727767944, 0.624834269285202, 0.127...</td>\n",
       "    </tr>\n",
       "    <tr>\n",
       "      <th>4</th>\n",
       "      <td>zero_1113.jpg</td>\n",
       "      <td>0</td>\n",
       "      <td>[0.035660624504089355, 0.6398380994796753, 0.1...</td>\n",
       "    </tr>\n",
       "  </tbody>\n",
       "</table>\n",
       "</div>"
      ],
      "text/plain": [
       "        filename  label                                               data\n",
       "0   zero_111.jpg      0  [0.0, 0.08762304484844208, 0.04669642448425293...\n",
       "1  zero_1110.jpg      0  [0.0, 0.26034096628427505, 0.09558302164077759...\n",
       "2  zero_1111.jpg      0  [0.0, 0.5345455408096313, 0.10513269901275635,...\n",
       "3  zero_1112.jpg      0  [0.03647130727767944, 0.624834269285202, 0.127...\n",
       "4  zero_1113.jpg      0  [0.035660624504089355, 0.6398380994796753, 0.1..."
      ]
     },
     "execution_count": 5,
     "metadata": {},
     "output_type": "execute_result"
    }
   ],
   "source": [
    "df.head()"
   ]
  },
  {
   "cell_type": "markdown",
   "metadata": {
    "id": "vVLu0n3yAx1X"
   },
   "source": [
    "## Splitting Data into Train and test with 80% in train"
   ]
  },
  {
   "cell_type": "code",
   "execution_count": 6,
   "metadata": {
    "id": "ut2hh_hY9Dlp"
   },
   "outputs": [
    {
     "name": "stdout",
     "output_type": "stream",
     "text": [
      "(9044, 3)\n",
      "(2261, 3)\n"
     ]
    }
   ],
   "source": [
    "# df['landmarks_cx'] = df['landmarks_cx'].apply(lambda x: np.array(x))\n",
    "# df['landmarks_cy'] = df['landmarks_cy'].apply(lambda x: np.array(x))\n",
    "\n",
    "train_data = df.sample(frac=0.8, random_state=42)\n",
    "val_data = df.drop(train_data.index)\n",
    "\n",
    "print(train_data.shape)\n",
    "print(val_data.shape)"
   ]
  },
  {
   "cell_type": "code",
   "execution_count": 7,
   "metadata": {},
   "outputs": [
    {
     "name": "stdout",
     "output_type": "stream",
     "text": [
      "['label0', 'label1', 'label2', 'label3', 'label4', 'label5', 'label6', 'label7', 'label8', 'label9']\n"
     ]
    }
   ],
   "source": [
    "cx_cols = [\"cx\" + str(i) for i in range(1, 22)]\n",
    "cy_cols = [\"cy\" + str(i) for i in range(1, 22)]\n",
    "label_cols = [\"label\" + str(i) for i in range(0, 10)]\n",
    "print(label_cols)"
   ]
  },
  {
   "cell_type": "code",
   "execution_count": 8,
   "metadata": {},
   "outputs": [],
   "source": [
    "# Define the input and output for the model\n",
    "x_train, x_test, y_train, y_test = train_test_split(data, labels, test_size=0.2, shuffle=True, stratify=labels)"
   ]
  },
  {
   "cell_type": "markdown",
   "metadata": {
    "id": "FXbozNiZDZ0k"
   },
   "source": [
    "## Model 1 - Training Convulational Neural Network from Scratch"
   ]
  },
  {
   "cell_type": "code",
   "execution_count": 9,
   "metadata": {},
   "outputs": [
    {
     "name": "stdout",
     "output_type": "stream",
     "text": [
      "96.99248120300751% of samples were classified correctly !\n"
     ]
    }
   ],
   "source": [
    "from sklearn.ensemble import RandomForestClassifier\n",
    "from sklearn.model_selection import train_test_split\n",
    "from sklearn.metrics import accuracy_score\n",
    "import pickle\n",
    " \n",
    "model = RandomForestClassifier()\n",
    "\n",
    "model.fit(x_train, y_train)\n",
    "\n",
    "y_predict = model.predict(x_test)\n",
    "\n",
    "score = accuracy_score(y_predict, y_test)\n",
    "\n",
    "print('{}% of samples were classified correctly !'.format(score * 100))\n",
    "\n",
    "f = open('Sign_Language_Grey_classifier_2.p', 'wb')\n",
    "pickle.dump({'model': model}, f)\n",
    "f.close()"
   ]
  },
  {
   "cell_type": "code",
   "execution_count": null,
   "metadata": {},
   "outputs": [],
   "source": []
  }
 ],
 "metadata": {
  "accelerator": "GPU",
  "colab": {
   "collapsed_sections": [],
   "name": "Pest_Identification -Archit Jain - Final Project.ipynb",
   "provenance": []
  },
  "kernelspec": {
   "display_name": "Python 3 (ipykernel)",
   "language": "python",
   "name": "python3"
  },
  "language_info": {
   "codemirror_mode": {
    "name": "ipython",
    "version": 3
   },
   "file_extension": ".py",
   "mimetype": "text/x-python",
   "name": "python",
   "nbconvert_exporter": "python",
   "pygments_lexer": "ipython3",
   "version": "3.10.0"
  }
 },
 "nbformat": 4,
 "nbformat_minor": 1
}
